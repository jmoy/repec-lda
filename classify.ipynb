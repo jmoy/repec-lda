{
 "cells": [
  {
   "cell_type": "code",
   "execution_count": 55,
   "metadata": {
    "collapsed": false
   },
   "outputs": [],
   "source": [
    "%matplotlib inline\n",
    "\n",
    "import sqlite3\n",
    "import itertools as it\n",
    "import html\n",
    "\n",
    "import matplotlib.pyplot as plt\n",
    "import numpy as np\n",
    "\n",
    "from nltk.stem.snowball import EnglishStemmer\n",
    "from nltk.tokenize import wordpunct_tokenize\n",
    "from nltk.corpus import stopwords\n",
    "\n",
    "from sklearn.feature_extraction.text import CountVectorizer\n",
    "\n",
    "from lda import LDA"
   ]
  },
  {
   "cell_type": "code",
   "execution_count": 56,
   "metadata": {
    "collapsed": false
   },
   "outputs": [],
   "source": [
    "FIT_START = 2011 # Fit only articles only after this date\n",
    "REPORT_START = 2015 # Report only articles after this date\n",
    "N_CLUSTERS = 25 # No of topics\n",
    "TOPIC_THRESHOLD = 0.3 # The minimum probability of a topic for a document to be considered part of the topic. For reporting\n",
    "DATABASE = \"repec.sqlite\" # See the README on how to create this file"
   ]
  },
  {
   "cell_type": "code",
   "execution_count": 57,
   "metadata": {
    "collapsed": false
   },
   "outputs": [
    {
     "data": {
      "text/plain": [
       "9490"
      ]
     },
     "execution_count": 57,
     "metadata": {},
     "output_type": "execute_result"
    }
   ],
   "source": [
    "# Get the data\n",
    "dbcon = sqlite3.connect(DATABASE)\n",
    "recs = dbcon.execute(\"\"\"SELECT id,\n",
    "                        CASE WHEN abstract ISNULL THEN '' ELSE abstract END,\n",
    "                        CASE WHEN title ISNULL THEN '' ELSE title END,\n",
    "                        series\n",
    "                        FROM article WHERE date>=?\"\"\",\n",
    "                    (FIT_START,)).fetchall()\n",
    "dbcon.close()\n",
    "len(recs)"
   ]
  },
  {
   "cell_type": "code",
   "execution_count": 58,
   "metadata": {
    "collapsed": false
   },
   "outputs": [
    {
     "data": {
      "text/plain": [
       "(9490, 21523)"
      ]
     },
     "execution_count": 58,
     "metadata": {},
     "output_type": "execute_result"
    }
   ],
   "source": [
    "# Create word countes\n",
    "# We drop punctuation, convert to lower case and stem\n",
    "# Words in title have \"T:\" prepended to them. This is\n",
    "#   my crude attempt to have occurence in title count\n",
    "#   separately from occurence in abstract.\n",
    "# Adjust min_df and max_df parameters to CountVectorizer to \n",
    "#   get enough features but not too many.\n",
    "\n",
    "stemmer = EnglishStemmer()\n",
    "stop = set(stopwords.words(\"english\"))\n",
    "\n",
    "def s_tokenize(text,pre=\"\"):\n",
    "    toks = (t.lower() for t in wordpunct_tokenize(text) if t.isalnum())    \n",
    "    return [pre+stemmer.stem(tok) for tok in toks if tok not in stop]\n",
    "\n",
    "def tokenize(rec):\n",
    "    return s_tokenize(rec[1],\"T:\")+s_tokenize(rec[2])\n",
    "    \n",
    "vectorizer = CountVectorizer(min_df=0.0005,max_df=0.05,\n",
    "                             tokenizer = tokenize, \n",
    "                             lowercase = False,\n",
    "                             ngram_range=(1,2))\n",
    "\n",
    "X = vectorizer.fit_transform(recs)\n",
    "vocab = np.array(vectorizer.get_feature_names())\n",
    "X.shape"
   ]
  },
  {
   "cell_type": "code",
   "execution_count": 59,
   "metadata": {
    "collapsed": false
   },
   "outputs": [
    {
     "data": {
      "text/plain": [
       "[<matplotlib.lines.Line2D at 0x7f77c274bb00>]"
      ]
     },
     "execution_count": 59,
     "metadata": {},
     "output_type": "execute_result"
    },
    {
     "data": {
      "image/png": "[encoded data removed]",
      "text/plain": [
       "<matplotlib.figure.Figure at 0x7f77c37cccf8>"
      ]
     },
     "metadata": {},
     "output_type": "display_data"
    }
   ],
   "source": [
    "# Fit the model and inspect loglikelihood to diagnose convergence\n",
    "\n",
    "lda = LDA(N_CLUSTERS)\n",
    "lda.fit(X)\n",
    "plt.plot(lda.loglikelihoods_[5:])"
   ]
  },
  {
   "cell_type": "code",
   "execution_count": 60,
   "metadata": {
    "collapsed": false
   },
   "outputs": [
    {
     "name": "stdout",
     "output_type": "stream",
     "text": [
      "Topic 0: T:busi, T:output, T:busi T:cycl, T:sector, T:fluctuat, T:adjust, T:macroeconom\n",
      "Topic 1: T:tax, T:household, T:wealth, T:insur, T:save, T:life, T:inequ\n",
      "Topic 2: T:group, T:subject, T:experiment, T:effort, T:influenc, T:particip, T:theoret\n",
      "Topic 3: T:contract, T:signal, T:ex, T:princip, inform, T:commit, T:ant\n",
      "Topic 4: T:belief, T:learn, T:ration, T:common, T:prior, T:al, T:et\n",
      "Topic 5: T:industri, T:univers, T:press, T:univers T:press, T:oxford T:univers, T:oxford, T:export\n",
      "Topic 6: T:innov, T:human, T:long T:run, T:d, T:human T:capit, T:resourc, growth\n",
      "Topic 7: T:1, T:year, T:percent, T:0, T:2, T:point, T:declin\n",
      "Topic 8: T:school, T:program, T:student, T:health, T:educ, T:women, T:children\n",
      "Topic 9: T:avers, T:uncertainti, T:risk T:avers, T:ambigu, T:discount, T:maker, T:loss\n",
      "Topic 10: T:hous, T:constraint, T:bubbl, T:hous T:price, T:fundament, T:asset T:price, asset\n",
      "Topic 11: T:coalit, T:implement, T:core, T:satisfi, T:class, T:solut, T:pareto\n",
      "Topic 12: T:network, T:option, T:bargain, T:connect, network, T:link, T:jump\n",
      "Topic 13: T:colleg, T:massachusett, T:presid, T:fellow, T:harvard, T:harvard T:colleg, T:fellow T:harvard\n",
      "Topic 14: T:debt, T:liquid, T:loan, T:default, T:borrow, T:lend, T:spread\n",
      "Topic 15: T:wage, T:worker, T:job, T:search, T:unemploy, T:skill, T:labor T:market\n",
      "Topic 16: T:fund, T:investor, T:short, T:news, T:announc, T:equiti, T:manag\n",
      "Topic 17: T:inflat, T:monetari T:polici, T:interest T:rate, monetari, T:money, T:central, T:fiscal\n",
      "Topic 18: T:payoff, game, T:nash, T:action, T:perfect, T:play, T:finit\n",
      "Topic 19: T:portfolio, T:forecast, T:premium, T:index, T:varianc, T:cross, T:futur\n",
      "Topic 20: T:method, T:paramet, T:linear, T:comput, T:appli, T:stochast, T:simul\n",
      "Topic 21: T:system, T:crisi, T:manag, T:regul, T:cash, T:ownership, T:corpor\n",
      "Topic 22: T:consum, T:qualiti, T:polit, T:entri, T:vote, T:profit, T:power\n",
      "Topic 23: T:intern, T:foreign, T:exchang, T:global, T:cross, T:domest, T:exchang T:rate\n",
      "Topic 24: T:auction, T:springer, T:springer T:verlag, T:copyright T:springer, T:verlag, T:bidder, T:seller\n"
     ]
    }
   ],
   "source": [
    "# Print the words with the highest probability for each topic to see what the topics are about\n",
    "# Because of the stemming and the prepending with \"T:\" this is not fit for human consumption\n",
    "\n",
    "N_TOP_WORDS = 8\n",
    "for i, topic_dist in enumerate(lda.topic_word_):\n",
    "    topic_words = vocab[np.argsort(topic_dist)[:-N_TOP_WORDS:-1]]\n",
    "    print('Topic {}: {}'.format(i, ', '.join(topic_words)))"
   ]
  },
  {
   "cell_type": "code",
   "execution_count": 61,
   "metadata": {
    "collapsed": false
   },
   "outputs": [],
   "source": [
    "# Make one cluster of articles from each topic. \n",
    "\n",
    "clusts = []\n",
    "for i in range(len(recs)):\n",
    "    c = set()\n",
    "    for j in range(N_CLUSTERS):\n",
    "        if lda.doc_topic_[i,j]>TOPIC_THRESHOLD:\n",
    "            c.add(j)\n",
    "    c.add(lda.doc_topic_[i].argmax())\n",
    "    clusts.extend((recs[i][0],str(j)) for j in c)"
   ]
  },
  {
   "cell_type": "code",
   "execution_count": 62,
   "metadata": {
    "collapsed": false
   },
   "outputs": [],
   "source": [
    "# Update the database with the cluster labels for articles\n",
    "\n",
    "dbcon = sqlite3.connect(DATABASE)\n",
    "dbcon.execute(\"DROP TABLE IF EXISTS label\")\n",
    "dbcon.execute(\"CREATE TABLE label (id TEXT, label TEXT)\")\n",
    "dbcon.execute(\"CREATE INDEX idix ON label(label)\")\n",
    "dbcon.execute(\"CREATE INDEX labelix ON label(label)\")\n",
    "dbcon.executemany(\"INSERT INTO label VALUES (?,?)\",clusts)\n",
    "dbcon.commit()\n",
    "dbcon.close()"
   ]
  },
  {
   "cell_type": "code",
   "execution_count": 63,
   "metadata": {
    "collapsed": false
   },
   "outputs": [],
   "source": [
    "# Generate cluster-wise HTML files linking to the articles\n",
    "\n",
    "dbcon = sqlite3.connect(DATABASE)\n",
    "distinct_labs = [str(j) for j in range(N_CLUSTERS)]\n",
    "with open(\"index.html\",\"w\") as f:\n",
    "    print('<html><head><meta charset=\"UTF-8\"></head><body>',file=f)\n",
    "    print(\"<ul>\",file=f)\n",
    "    for lab in distinct_labs:\n",
    "        print('<li><a href=\"cluster{}.html\">Cluster {}</a></li>'.format(lab,lab),file=f)\n",
    "    print(\"</ul>\",file=f)\n",
    "    print(\"</body></html>\",file=f)\n",
    "for lab in distinct_labs:\n",
    "    cur = dbcon.execute(\"\"\"SELECT title,authors,name,date,url FROM article,label,series \n",
    "                            WHERE article.id=label.id AND series=seriesid AND label.label=? AND date>=?\n",
    "                            ORDER BY series.rank,series,date DESC\"\"\",(lab,REPORT_START))\n",
    "    with open(\"cluster{}.html\".format(lab),\"w\") as f:\n",
    "        print('<html><head><meta charset=\"UTF-8\"></head><body><ul>',file=f)\n",
    "        for t,a,n,d,u in cur:\n",
    "            if t is None:\n",
    "                continue\n",
    "            deco_t = None\n",
    "            if u is not None:\n",
    "                deco_t = '<a href=\"{}\">{}</a>'.format(html.escape(u),html.escape(t))\n",
    "            else:\n",
    "                deco_t = html.escape(t)\n",
    "            print(\"<li>{} ({}). {}, <i>{}</i>.</li>\".format(html.escape(a),\n",
    "                                                            html.escape(d),\n",
    "                                                            deco_t,\n",
    "                                                            html.escape(n)),\n",
    "                    file = f)\n",
    "            \n",
    "dbcon.close()"
   ]
  },
  {
   "cell_type": "code",
   "execution_count": null,
   "metadata": {
    "collapsed": false
   },
   "outputs": [],
   "source": []
  }
 ],
 "metadata": {
  "kernelspec": {
   "display_name": "Python 3",
   "language": "python",
   "name": "python3"
  },
  "language_info": {
   "codemirror_mode": {
    "name": "ipython",
    "version": 3
   },
   "file_extension": ".py",
   "mimetype": "text/x-python",
   "name": "python",
   "nbconvert_exporter": "python",
   "pygments_lexer": "ipython3",
   "version": "3.5.2"
  }
 },
 "nbformat": 4,
 "nbformat_minor": 0
}
